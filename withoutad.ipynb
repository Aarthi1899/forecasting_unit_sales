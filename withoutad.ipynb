{
 "cells": [
  {
   "cell_type": "code",
   "execution_count": 1,
   "metadata": {},
   "outputs": [
    {
     "name": "stdout",
     "output_type": "stream",
     "text": [
      "Random Forest MSE: 2358.3074562152146\n"
     ]
    }
   ],
   "source": [
    "# NSS AARTHI\n",
    "\n",
    "import pandas as pd\n",
    "from sklearn.model_selection import train_test_split\n",
    "from sklearn.metrics import mean_squared_error\n",
    "from sklearn.ensemble import RandomForestRegressor\n",
    "from sklearn.preprocessing import LabelEncoder\n",
    "\n",
    "# Load data\n",
    "train_data = pd.read_csv('train.csv')\n",
    "test_data = pd.read_csv('test.csv')\n",
    "\n",
    "# Convert dates\n",
    "train_data['date'] = pd.to_datetime(train_data['date'])\n",
    "test_data['date'] = pd.to_datetime(test_data['date'])\n",
    "\n",
    "# Fill missing values for unit_price\n",
    "train_data.fillna({'unit_price': train_data['unit_price'].median()}, inplace=True)\n",
    "test_data.fillna({'unit_price': test_data['unit_price'].median()}, inplace=True)\n",
    "\n",
    "# Feature engineering\n",
    "train_data['day_of_week'] = train_data['date'].dt.dayofweek\n",
    "train_data['month'] = train_data['date'].dt.month\n",
    "train_data['lag_1'] = train_data['unit_price'].shift(1).fillna(0)\n",
    "\n",
    "# Label encoding for 'anarix_id'\n",
    "label_encoder = LabelEncoder()\n",
    "train_data['anarix_id_encoded'] = label_encoder.fit_transform(train_data['anarix_id'])\n",
    "test_data['anarix_id_encoded'] = label_encoder.transform(test_data['anarix_id'])\n",
    "\n",
    "# Prepare features and target\n",
    "X = train_data[['unit_price', 'day_of_week', 'month', 'lag_1', 'anarix_id_encoded']]\n",
    "y = train_data['units'].fillna(train_data['units'].median())\n",
    "\n",
    "# Split the data\n",
    "X_train, X_val, y_train, y_val = train_test_split(X, y, test_size=0.2, random_state=42)\n",
    "\n",
    "# Model training\n",
    "rf_model = RandomForestRegressor(n_estimators=100, random_state=42)\n",
    "rf_model.fit(X_train, y_train)\n",
    "rf_predictions = rf_model.predict(X_val)\n",
    "rf_mse = mean_squared_error(y_val, rf_predictions)\n",
    "print(f'Random Forest MSE: {rf_mse}')\n",
    "\n",
    "# Test data preparation\n",
    "test_data['day_of_week'] = test_data['date'].dt.dayofweek\n",
    "test_data['month'] = test_data['date'].dt.month\n",
    "test_data['lag_1'] = test_data['unit_price'].shift(1).fillna(0)\n",
    "\n",
    "# Use the same features as in the training set for prediction\n",
    "test_features = test_data[['unit_price', 'day_of_week', 'month', 'lag_1', 'anarix_id_encoded']]\n",
    "\n",
    "# Predicting\n",
    "predictions = rf_model.predict(test_features)\n",
    "\n",
    "# Attach predictions to the test_data for submission\n",
    "test_data['TARGET'] = predictions\n",
    "\n",
    "# Create a DataFrame for submission (assuming 'ID' is required as per the initial code)\n",
    "submission = test_data[['ID', 'TARGET']]\n",
    "submission.to_csv('submissions[without].csv', index=False)\n"
   ]
  }
 ],
 "metadata": {
  "kernelspec": {
   "display_name": "base",
   "language": "python",
   "name": "python3"
  },
  "language_info": {
   "codemirror_mode": {
    "name": "ipython",
    "version": 3
   },
   "file_extension": ".py",
   "mimetype": "text/x-python",
   "name": "python",
   "nbconvert_exporter": "python",
   "pygments_lexer": "ipython3",
   "version": "3.12.4"
  }
 },
 "nbformat": 4,
 "nbformat_minor": 2
}
